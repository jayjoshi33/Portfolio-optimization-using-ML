{
  "nbformat": 4,
  "nbformat_minor": 0,
  "metadata": {
    "colab": {
      "provenance": []
    },
    "kernelspec": {
      "name": "python3",
      "display_name": "Python 3"
    },
    "language_info": {
      "name": "python"
    }
  },
  "cells": [
    {
      "cell_type": "code",
      "execution_count": 1,
      "metadata": {
        "colab": {
          "base_uri": "https://localhost:8080/"
        },
        "id": "qJFgUVXRUqyU",
        "outputId": "56b6bbf5-a74a-4513-8c71-7920ed71ed82"
      },
      "outputs": [
        {
          "output_type": "stream",
          "name": "stdout",
          "text": [
            "Collecting Catboost\n",
            "  Downloading catboost-1.2.7-cp310-cp310-manylinux2014_x86_64.whl.metadata (1.2 kB)\n",
            "Requirement already satisfied: graphviz in /usr/local/lib/python3.10/dist-packages (from Catboost) (0.20.3)\n",
            "Requirement already satisfied: matplotlib in /usr/local/lib/python3.10/dist-packages (from Catboost) (3.7.1)\n",
            "Requirement already satisfied: numpy<2.0,>=1.16.0 in /usr/local/lib/python3.10/dist-packages (from Catboost) (1.26.4)\n",
            "Requirement already satisfied: pandas>=0.24 in /usr/local/lib/python3.10/dist-packages (from Catboost) (2.2.2)\n",
            "Requirement already satisfied: scipy in /usr/local/lib/python3.10/dist-packages (from Catboost) (1.13.1)\n",
            "Requirement already satisfied: plotly in /usr/local/lib/python3.10/dist-packages (from Catboost) (5.24.1)\n",
            "Requirement already satisfied: six in /usr/local/lib/python3.10/dist-packages (from Catboost) (1.16.0)\n",
            "Requirement already satisfied: python-dateutil>=2.8.2 in /usr/local/lib/python3.10/dist-packages (from pandas>=0.24->Catboost) (2.8.2)\n",
            "Requirement already satisfied: pytz>=2020.1 in /usr/local/lib/python3.10/dist-packages (from pandas>=0.24->Catboost) (2024.2)\n",
            "Requirement already satisfied: tzdata>=2022.7 in /usr/local/lib/python3.10/dist-packages (from pandas>=0.24->Catboost) (2024.2)\n",
            "Requirement already satisfied: contourpy>=1.0.1 in /usr/local/lib/python3.10/dist-packages (from matplotlib->Catboost) (1.3.0)\n",
            "Requirement already satisfied: cycler>=0.10 in /usr/local/lib/python3.10/dist-packages (from matplotlib->Catboost) (0.12.1)\n",
            "Requirement already satisfied: fonttools>=4.22.0 in /usr/local/lib/python3.10/dist-packages (from matplotlib->Catboost) (4.54.1)\n",
            "Requirement already satisfied: kiwisolver>=1.0.1 in /usr/local/lib/python3.10/dist-packages (from matplotlib->Catboost) (1.4.7)\n",
            "Requirement already satisfied: packaging>=20.0 in /usr/local/lib/python3.10/dist-packages (from matplotlib->Catboost) (24.1)\n",
            "Requirement already satisfied: pillow>=6.2.0 in /usr/local/lib/python3.10/dist-packages (from matplotlib->Catboost) (10.4.0)\n",
            "Requirement already satisfied: pyparsing>=2.3.1 in /usr/local/lib/python3.10/dist-packages (from matplotlib->Catboost) (3.2.0)\n",
            "Requirement already satisfied: tenacity>=6.2.0 in /usr/local/lib/python3.10/dist-packages (from plotly->Catboost) (9.0.0)\n",
            "Downloading catboost-1.2.7-cp310-cp310-manylinux2014_x86_64.whl (98.7 MB)\n",
            "\u001b[2K   \u001b[90m━━━━━━━━━━━━━━━━━━━━━━━━━━━━━━━━━━━━━━━━\u001b[0m \u001b[32m98.7/98.7 MB\u001b[0m \u001b[31m6.1 MB/s\u001b[0m eta \u001b[36m0:00:00\u001b[0m\n",
            "\u001b[?25hInstalling collected packages: Catboost\n",
            "Successfully installed Catboost-1.2.7\n"
          ]
        }
      ],
      "source": [
        "!pip install Catboost"
      ]
    },
    {
      "cell_type": "code",
      "source": [
        "!wget https://launchpad.net/~mario-mariomedina/+archive/ubuntu/talib/+files/libta-lib0_0.4.0-oneiric1_amd64.deb -qO libta.deb\n",
        "!wget https://launchpad.net/~mario-mariomedina/+archive/ubuntu/talib/+files/ta-lib0-dev_0.4.0-oneiric1_amd64.deb -qO ta.deb\n",
        "!dpkg -i libta.deb ta.deb\n",
        "!pip install ta-lib"
      ],
      "metadata": {
        "colab": {
          "base_uri": "https://localhost:8080/"
        },
        "id": "pwA7PPYXUrcu",
        "outputId": "b4201e42-8f66-414a-c5b7-4aabb3a21a7b"
      },
      "execution_count": 2,
      "outputs": [
        {
          "output_type": "stream",
          "name": "stdout",
          "text": [
            "Selecting previously unselected package libta-lib0.\n",
            "(Reading database ... 123622 files and directories currently installed.)\n",
            "Preparing to unpack libta.deb ...\n",
            "Unpacking libta-lib0 (0.4.0-oneiric1) ...\n",
            "Selecting previously unselected package ta-lib0-dev.\n",
            "Preparing to unpack ta.deb ...\n",
            "Unpacking ta-lib0-dev (0.4.0-oneiric1) ...\n",
            "Setting up libta-lib0 (0.4.0-oneiric1) ...\n",
            "Setting up ta-lib0-dev (0.4.0-oneiric1) ...\n",
            "Processing triggers for man-db (2.10.2-1) ...\n",
            "Processing triggers for libc-bin (2.35-0ubuntu3.4) ...\n",
            "/sbin/ldconfig.real: /usr/local/lib/libur_adapter_level_zero.so.0 is not a symbolic link\n",
            "\n",
            "/sbin/ldconfig.real: /usr/local/lib/libtbbbind_2_5.so.3 is not a symbolic link\n",
            "\n",
            "/sbin/ldconfig.real: /usr/local/lib/libtbbbind.so.3 is not a symbolic link\n",
            "\n",
            "/sbin/ldconfig.real: /usr/local/lib/libtbbmalloc.so.2 is not a symbolic link\n",
            "\n",
            "/sbin/ldconfig.real: /usr/local/lib/libur_adapter_opencl.so.0 is not a symbolic link\n",
            "\n",
            "/sbin/ldconfig.real: /usr/local/lib/libtbb.so.12 is not a symbolic link\n",
            "\n",
            "/sbin/ldconfig.real: /usr/local/lib/libtbbbind_2_0.so.3 is not a symbolic link\n",
            "\n",
            "/sbin/ldconfig.real: /usr/local/lib/libur_loader.so.0 is not a symbolic link\n",
            "\n",
            "/sbin/ldconfig.real: /usr/local/lib/libtbbmalloc_proxy.so.2 is not a symbolic link\n",
            "\n",
            "Collecting ta-lib\n",
            "  Downloading TA-Lib-0.4.32.tar.gz (368 kB)\n",
            "\u001b[2K     \u001b[90m━━━━━━━━━━━━━━━━━━━━━━━━━━━━━━━━━━━━━━━━\u001b[0m \u001b[32m368.5/368.5 kB\u001b[0m \u001b[31m6.2 MB/s\u001b[0m eta \u001b[36m0:00:00\u001b[0m\n",
            "\u001b[?25h  Installing build dependencies ... \u001b[?25l\u001b[?25hdone\n",
            "  Getting requirements to build wheel ... \u001b[?25l\u001b[?25hdone\n",
            "  Preparing metadata (pyproject.toml) ... \u001b[?25l\u001b[?25hdone\n",
            "Requirement already satisfied: numpy in /usr/local/lib/python3.10/dist-packages (from ta-lib) (1.26.4)\n",
            "Building wheels for collected packages: ta-lib\n",
            "  Building wheel for ta-lib (pyproject.toml) ... \u001b[?25l\u001b[?25hdone\n",
            "  Created wheel for ta-lib: filename=TA_Lib-0.4.32-cp310-cp310-linux_x86_64.whl size=2063402 sha256=10e47d7050c85c3d25c4844eb5373b34d22d1c7cae566e9a1c892fbf68843e51\n",
            "  Stored in directory: /root/.cache/pip/wheels/c3/21/bd/ca95eb09997c2a18fce271b98b10ffa9fcafbaa161be864dd7\n",
            "Successfully built ta-lib\n",
            "Installing collected packages: ta-lib\n",
            "Successfully installed ta-lib-0.4.32\n"
          ]
        }
      ]
    },
    {
      "cell_type": "code",
      "source": [
        "!pip install PyPortfolioOpt"
      ],
      "metadata": {
        "colab": {
          "base_uri": "https://localhost:8080/"
        },
        "id": "iKw3PHqfUxit",
        "outputId": "2ba2945b-2234-4b61-fcd9-81c42efece27"
      },
      "execution_count": 3,
      "outputs": [
        {
          "output_type": "stream",
          "name": "stdout",
          "text": [
            "Collecting PyPortfolioOpt\n",
            "  Downloading pyportfolioopt-1.5.5-py3-none-any.whl.metadata (23 kB)\n",
            "Requirement already satisfied: cvxpy<2.0.0,>=1.1.19 in /usr/local/lib/python3.10/dist-packages (from PyPortfolioOpt) (1.5.3)\n",
            "Requirement already satisfied: numpy<2.0.0,>=1.22.4 in /usr/local/lib/python3.10/dist-packages (from PyPortfolioOpt) (1.26.4)\n",
            "Requirement already satisfied: pandas>=0.19 in /usr/local/lib/python3.10/dist-packages (from PyPortfolioOpt) (2.2.2)\n",
            "Requirement already satisfied: scipy<2.0,>=1.3 in /usr/local/lib/python3.10/dist-packages (from PyPortfolioOpt) (1.13.1)\n",
            "Requirement already satisfied: osqp>=0.6.2 in /usr/local/lib/python3.10/dist-packages (from cvxpy<2.0.0,>=1.1.19->PyPortfolioOpt) (0.6.7.post3)\n",
            "Requirement already satisfied: ecos>=2 in /usr/local/lib/python3.10/dist-packages (from cvxpy<2.0.0,>=1.1.19->PyPortfolioOpt) (2.0.14)\n",
            "Requirement already satisfied: clarabel>=0.5.0 in /usr/local/lib/python3.10/dist-packages (from cvxpy<2.0.0,>=1.1.19->PyPortfolioOpt) (0.9.0)\n",
            "Requirement already satisfied: scs>=3.2.4.post1 in /usr/local/lib/python3.10/dist-packages (from cvxpy<2.0.0,>=1.1.19->PyPortfolioOpt) (3.2.7)\n",
            "Requirement already satisfied: python-dateutil>=2.8.2 in /usr/local/lib/python3.10/dist-packages (from pandas>=0.19->PyPortfolioOpt) (2.8.2)\n",
            "Requirement already satisfied: pytz>=2020.1 in /usr/local/lib/python3.10/dist-packages (from pandas>=0.19->PyPortfolioOpt) (2024.2)\n",
            "Requirement already satisfied: tzdata>=2022.7 in /usr/local/lib/python3.10/dist-packages (from pandas>=0.19->PyPortfolioOpt) (2024.2)\n",
            "Requirement already satisfied: qdldl in /usr/local/lib/python3.10/dist-packages (from osqp>=0.6.2->cvxpy<2.0.0,>=1.1.19->PyPortfolioOpt) (0.1.7.post4)\n",
            "Requirement already satisfied: six>=1.5 in /usr/local/lib/python3.10/dist-packages (from python-dateutil>=2.8.2->pandas>=0.19->PyPortfolioOpt) (1.16.0)\n",
            "Downloading pyportfolioopt-1.5.5-py3-none-any.whl (61 kB)\n",
            "\u001b[2K   \u001b[90m━━━━━━━━━━━━━━━━━━━━━━━━━━━━━━━━━━━━━━━━\u001b[0m \u001b[32m61.9/61.9 kB\u001b[0m \u001b[31m2.3 MB/s\u001b[0m eta \u001b[36m0:00:00\u001b[0m\n",
            "\u001b[?25hInstalling collected packages: PyPortfolioOpt\n",
            "Successfully installed PyPortfolioOpt-1.5.5\n"
          ]
        }
      ]
    },
    {
      "cell_type": "code",
      "source": [
        "import pandas as pd\n",
        "import numpy as np\n",
        "import yfinance as yf\n",
        "import talib\n",
        "from sklearn.preprocessing import MinMaxScaler\n",
        "from sklearn.ensemble import VotingClassifier\n",
        "from sklearn.model_selection import train_test_split, GridSearchCV\n",
        "from sklearn.metrics import confusion_matrix, accuracy_score, precision_score\n",
        "from sklearn.linear_model import LogisticRegression\n",
        "from sklearn.tree import DecisionTreeClassifier\n",
        "from sklearn.ensemble import RandomForestClassifier, GradientBoostingClassifier, AdaBoostClassifier, BaggingClassifier\n",
        "from sklearn.svm import SVC, LinearSVC\n",
        "from sklearn.neural_network import MLPClassifier\n",
        "from sklearn.neighbors import KNeighborsClassifier\n",
        "from sklearn.naive_bayes import GaussianNB\n",
        "from sklearn.ensemble import StackingClassifier\n",
        "from imblearn.over_sampling import SMOTE\n",
        "from lightgbm import LGBMClassifier\n",
        "from catboost import CatBoostClassifier"
      ],
      "metadata": {
        "colab": {
          "base_uri": "https://localhost:8080/"
        },
        "id": "SzzzgbiN6y22",
        "outputId": "100a8fcb-b3f8-4046-ad51-ad0224b3441f"
      },
      "execution_count": 4,
      "outputs": [
        {
          "output_type": "stream",
          "name": "stderr",
          "text": [
            "/usr/local/lib/python3.10/dist-packages/dask/dataframe/__init__.py:42: FutureWarning: \n",
            "Dask dataframe query planning is disabled because dask-expr is not installed.\n",
            "\n",
            "You can install it with `pip install dask[dataframe]` or `conda install dask`.\n",
            "This will raise in a future version.\n",
            "\n",
            "  warnings.warn(msg, FutureWarning)\n"
          ]
        }
      ]
    },
    {
      "cell_type": "code",
      "source": [
        "print(\"What is the period for which you are looking to invest\\n\")\n",
        "print(\"1) 3 Months\")\n",
        "print(\"2) 1 Month\")\n",
        "print(\"3) 2 weeks\")\n",
        "print('4) 1 week')\n",
        "start_date = \"2000-01-01\"\n",
        "end_date = \"2024-10-10\"\n",
        "end_date_test = \"2024-10-17\"\n",
        "\n",
        "\n",
        "\n",
        "n = int(input(\"Enter a digit corresponding to your choice of Time Period: \"))\n",
        "\n",
        "if n==1:\n",
        "    period = '3m'\n",
        "elif n==2:\n",
        "    period = '1m'\n",
        "elif n==3:\n",
        "    period = '2w'\n",
        "elif n==4:\n",
        "    period = '1w'\n",
        "else:\n",
        "    \"Enter a valid input\"\n",
        "\n",
        "\n",
        "# if(period == '1y'):\n",
        "#     tr_pct = 12.3\n",
        "#     rr = 0.34\n",
        "#     no_of_days = 252\n",
        "#     rfr = 0.07\n",
        "# elif(period =='6m'):\n",
        "#     tr_pct = 6.1986\n",
        "#     rr = 0.34\n",
        "#     no_of_days = 126\n",
        "#     rfr = 0.034408043278860045\n",
        "if(period == '3m'):\n",
        "    tr_pct = 3.0899\n",
        "    rr = 0.34\n",
        "    no_of_days = 63\n",
        "    rfr = 0.017058525001811375\n",
        "elif(period == '1m'):\n",
        "    tr_pct = 1.0168\n",
        "    rr = 0.34\n",
        "    no_of_days = 21\n",
        "    rfr = 0.005654145387405274\n",
        "elif(period == '2w'):\n",
        "    tr_pct = 0.488\n",
        "    rr = 0.34\n",
        "    no_of_days = 10\n",
        "    rfr = 0.0022\n",
        "elif(period == '1w'):\n",
        "    tr_pct = 0.243\n",
        "    rr = 0.34\n",
        "    no_of_days = 5\n",
        "    rfr = 0.0011"
      ],
      "metadata": {
        "colab": {
          "base_uri": "https://localhost:8080/"
        },
        "id": "-ML1dv9WU8Yh",
        "outputId": "04a188da-2154-40ae-fe14-5dea993483f9"
      },
      "execution_count": 5,
      "outputs": [
        {
          "name": "stdout",
          "output_type": "stream",
          "text": [
            "What is the period for which you are looking to invest\n",
            "\n",
            "1) 3 Months\n",
            "2) 1 Month\n",
            "3) 2 weeks\n",
            "4) 1 week\n",
            "Enter a digit corresponding to your choice of Time Period: 4\n"
          ]
        }
      ]
    },
    {
      "cell_type": "code",
      "source": [
        "def get_signal(ticker,tr_pct,rr,no_of_days):\n",
        "\n",
        "    # Use the yfinance library to get the historical data\n",
        "    df = yf.download(ticker, start=start_date, end=end_date)\n",
        "    df = df[['High','Low','Adj Close','Volume']]\n",
        "    df.dropna(how='any', inplace=True)\n",
        "    adj=df['Adj Close'].to_numpy().flatten().astype(np.float64)\n",
        "    low=df['Low'].to_numpy().flatten().astype(np.float64)\n",
        "    high=df['High'].to_numpy().flatten().astype(np.float64)\n",
        "    vol=df['Volume'].to_numpy().flatten().astype(np.float64)\n",
        "\n",
        "    # Calculate Simple Moving Average (SMA)\n",
        "    df['SMA-21'] = talib.SMA(adj, timeperiod=21)\n",
        "    df['SMA-55'] = talib.SMA(adj, timeperiod=55)\n",
        "    df['SMA-100'] = talib.SMA(adj, timeperiod=100)\n",
        "    df['SMA-200'] = talib.SMA(adj, timeperiod=200)\n",
        "\n",
        "    #Calculate Chaikin A/D Oscillator\n",
        "    df['ADOSC'] = talib.ADOSC(high, low, adj, vol, fastperiod=3, slowperiod=10)\n",
        "\n",
        "    # Calculate Exponential Moving Average (EMA)\n",
        "    df['EMA-12'] = talib.EMA(adj, timeperiod=12)\n",
        "    df['EMA-26'] = talib.EMA(adj, timeperiod=26)\n",
        "    df['EMA-50'] = talib.EMA(adj, timeperiod=50)\n",
        "    df['EMA-200'] = talib.EMA(adj, timeperiod=200)\n",
        "\n",
        "    # Calculate Relative Strength Index (RSI)\n",
        "    df['RSI-5'] = talib.RSI(adj, timeperiod=5)\n",
        "    df['RSI-14'] = talib.RSI(adj, timeperiod=14)\n",
        "\n",
        "    # Calculate Moving Average Convergence Divergence (MACD)\n",
        "    macd, signal, _ = talib.MACD(adj, fastperiod=12, slowperiod=26, signalperiod=9)\n",
        "    df['MACD'] = _\n",
        "\n",
        "    # Calculate Bollinger Bands\n",
        "    upper, middle, lower = talib.BBANDS(adj, timeperiod=20, nbdevup=2, nbdevdn=2)\n",
        "    df['BB_upper'] = upper\n",
        "    df['BB_middle'] = middle\n",
        "    df['BB_lower'] = lower\n",
        "\n",
        "    df['BB_upper'] = (df['BB_upper'] - adj) / adj * 100\n",
        "    df['BB_middle'] = (df['BB_middle'] - adj) / adj * 100\n",
        "    df['BB_lower'] = (df['BB_lower'] - adj) / adj * 100\n",
        "\n",
        "    df['ADX'] = talib.ADX(high, low, adj, timeperiod=14)\n",
        "    df['ATR'] = talib.ATR(high, low, adj, timeperiod=14)\n",
        "\n",
        "    #Calculate Chaikin A/D Oscillator\n",
        "    df['ADOSC'] = talib.ADOSC(high, low, adj, vol, fastperiod=3, slowperiod=10)\n",
        "\n",
        "    # Calculate Hilbert Transform - Dominant Cycle Period (HT_DCPERIOD)\n",
        "    df['dc_period'] = talib.HT_DCPERIOD(adj)\n",
        "\n",
        "    # Calculate Hilbert Transform - Dominant Cycle Phase (HT_DCPHASE)\n",
        "    df['dc_phase'] = talib.HT_DCPHASE(adj)\n",
        "\n",
        "    df['pct_change'] = df['Adj Close'].pct_change(periods=no_of_days) * 100\n",
        "    df['pct_change'] = df['pct_change'].shift(-no_of_days)\n",
        "\n",
        "    columns_to_replace = ['SMA-21', 'SMA-55', 'SMA-100', 'SMA-200', 'EMA-12', 'EMA-26', 'EMA-50', 'EMA-200']\n",
        "\n",
        "    # Iterate over the columns and replace the values based on 'Adj Close'\n",
        "    for column in columns_to_replace:\n",
        "        df[column] = ((adj - df[column]) / adj) * 100\n",
        "\n",
        "    last_row = df.tail(1)\n",
        "\n",
        "    df.dropna(how='any', inplace=True)\n",
        "\n",
        "    # Create a new column based on the conditions\n",
        "    df['Signal'] = 0\n",
        "    df.loc[(df['pct_change'] >= tr_pct), 'Signal'] = 1\n",
        "    df = df.drop(columns={'pct_change'})\n",
        "\n",
        "    features = ['SMA-21', 'SMA-55', 'SMA-100', 'SMA-200', 'EMA-12', 'EMA-26', 'EMA-50',\n",
        "                'EMA-200', 'RSI-5', 'RSI-14', 'MACD', 'BB_upper', 'BB_middle', 'BB_lower',\n",
        "                'ADX','ATR','ADOSC','dc_period','dc_phase']\n",
        "\n",
        "    target = 'Signal'\n",
        "\n",
        "    X = df[features].values\n",
        "    y = df[target].values\n",
        "\n",
        "    # Preprocess the data\n",
        "    scaler = MinMaxScaler(feature_range=(0, 1))\n",
        "    X = scaler.fit_transform(X)\n",
        "\n",
        "    # Split the preprocessed data into training and testing sets\n",
        "    # Splitting the data with the last 100 samples as the test set\n",
        "\n",
        "    X_train, X_test, y_train, y_test = train_test_split(X, y, test_size=0.2)\n",
        "\n",
        "    # Define the base classifiers\n",
        "    rf = RandomForestClassifier(max_depth=20, min_samples_split=2, n_estimators=500)\n",
        "    gb = GradientBoostingClassifier(learning_rate=0.1)\n",
        "    bc = BaggingClassifier(max_features=1.0, max_samples=1.0, n_estimators=100)\n",
        "    knn = KNeighborsClassifier(algorithm='auto', n_neighbors=5, weights='distance')\n",
        "\n",
        "    lgb_params = {\n",
        "        'objective': 'binary',  # Binary classification objective\n",
        "        'verbose': 0\n",
        "    }\n",
        "    lgb_model = LGBMClassifier(**lgb_params,force_col_wise=True)\n",
        "\n",
        "    # CatBoost binary classifier\n",
        "    catboost_params = {\n",
        "        'loss_function': 'Logloss',\n",
        "        'verbose': 0            # Set verbose to 0 to avoid printing progress\n",
        "    }\n",
        "    catboost_model = CatBoostClassifier(**catboost_params)\n",
        "\n",
        "    # Soft voting classifier\n",
        "    voting_soft = VotingClassifier(\n",
        "        estimators=[('rf', rf), ('gb', gb),('bc',bc),('knn', knn), ('lgb_model', lgb_model), ('catboost_model', catboost_model)],\n",
        "        voting='soft'\n",
        "    )\n",
        "\n",
        "\n",
        "\n",
        "    # Fit the soft voting classifier on the oversampled training data\n",
        "    voting_soft.fit(X_train, y_train)\n",
        "\n",
        "    y_pred_soft = voting_soft.predict(X_test)\n",
        "    print(\"Confusion Matrix:\")\n",
        "    print(confusion_matrix(y_test, y_pred_soft))\n",
        "    print(\"Accuracy:\", accuracy_score(y_test, y_pred_soft) * 100)\n",
        "    print(\"Precision:\", precision_score(y_test, y_pred_soft) * 100)\n",
        "\n",
        "    # Extract features from the last row\n",
        "    features_last_row = last_row[features]\n",
        "\n",
        "    # Preprocess the features of the last row\n",
        "    features_last_row = scaler.transform(features_last_row)\n",
        "\n",
        "    # Make the prediction\n",
        "    predicted_signal = voting_soft.predict(features_last_row)\n",
        "\n",
        "\n",
        "    # Assign the predicted value to the 'Signal' column of the last row\n",
        "    last_row.loc[:, 'Signal'] = predicted_signal\n",
        "\n",
        "    if last_row.loc[:, 'Signal'].values[0] == 1:\n",
        "        return run_classification(ticker,rr,no_of_days)\n",
        "\n",
        "    # Return the predicted signal\n",
        "    else:\n",
        "        return last_row.loc[:, 'Signal'].values[0]"
      ],
      "metadata": {
        "id": "Anbf6VYPVrr3"
      },
      "execution_count": 6,
      "outputs": []
    },
    {
      "cell_type": "code",
      "source": [
        "# import warnings\n",
        "# # Ignore all warnings\n",
        "# warnings.filterwarnings(\"ignore\")\n",
        "\n",
        "def run_classification(ticker,rr,no_of_days):\n",
        "\n",
        "    # Download historical data for the ticker\n",
        "    df = yf.download(ticker, start=start_date, end=end_date)\n",
        "    df.dropna(how='any', inplace=True)\n",
        "    df = df[['Open','High','Low','Adj Close','Volume']]\n",
        "    adj=df['Adj Close'].to_numpy().flatten().astype(np.float64)\n",
        "    low=df['Low'].to_numpy().flatten().astype(np.float64)\n",
        "    high=df['High'].to_numpy().flatten().astype(np.float64)\n",
        "    vol=df['Volume'].to_numpy().flatten().astype(np.float64)\n",
        "\n",
        "\n",
        "    # Calculate Simple Moving Average (SMA)\n",
        "    df['SMA-21'] = talib.SMA(adj, timeperiod=21)\n",
        "    df['SMA-55'] = talib.SMA(adj, timeperiod=55)\n",
        "    df['SMA-100'] = talib.SMA(adj, timeperiod=100)\n",
        "    df['SMA-200'] = talib.SMA(adj, timeperiod=200)\n",
        "\n",
        "    # Calculate Exponential Moving Average (EMA)\n",
        "    df['EMA-12'] = talib.EMA(adj, timeperiod=12)\n",
        "    df['EMA-26'] = talib.EMA(adj, timeperiod=26)\n",
        "    df['EMA-50'] = talib.EMA(adj, timeperiod=50)\n",
        "    df['EMA-200'] = talib.EMA(adj, timeperiod=200)\n",
        "\n",
        "    # Calculate Relative Strength Index (RSI)\n",
        "    df['RSI-5'] = talib.RSI(adj, timeperiod=5)\n",
        "    df['RSI-14'] = talib.RSI(adj, timeperiod=14)\n",
        "\n",
        "    # Calculate Moving Average Convergence Divergence (MACD)\n",
        "    macd, signal, _ = talib.MACD(adj, fastperiod=12, slowperiod=26, signalperiod=9)\n",
        "    df['MACD'] = _\n",
        "\n",
        "    # Calculate Bollinger Bands\n",
        "    upper, middle, lower = talib.BBANDS(adj, timeperiod=20, nbdevup=2, nbdevdn=2)\n",
        "    df['BB_upper'] = upper\n",
        "    df['BB_middle'] = middle\n",
        "    df['BB_lower'] = lower\n",
        "\n",
        "    df['BB_upper'] = (df['BB_upper'] - adj) / adj * 100\n",
        "    df['BB_middle'] = (df['BB_middle'] - adj) / adj * 100\n",
        "    df['BB_lower'] = (df['BB_lower'] - adj) / adj * 100\n",
        "\n",
        "    df['ADX'] = talib.ADX(high, low, adj, timeperiod=14)\n",
        "    df['ATR'] = talib.ATR(high, low, adj, timeperiod=14)\n",
        "\n",
        "    df['ADOSC'] = talib.ADOSC(high, low, adj, vol, fastperiod=3, slowperiod=10)\n",
        "    # Calculate Hilbert Transform - Dominant Cycle Period (HT_DCPERIOD)\n",
        "    df['dc_period'] = talib.HT_DCPERIOD(adj)\n",
        "\n",
        "    # Calculate Hilbert Transform - Dominant Cycle Phase (HT_DCPHASE)\n",
        "    df['dc_phase'] = talib.HT_DCPHASE(adj)\n",
        "\n",
        "    df['High'] = df['High'].rolling(no_of_days).max().shift(-no_of_days)\n",
        "    df['Low'] = df['Low'].rolling(no_of_days).min().shift(-no_of_days)\n",
        "    df['High'] = (df['High'] - df['Open'])/df['Open']\n",
        "    df['Low'] = np.abs((df['Low'] - df['Open'])/df['Open'])\n",
        "    df['Ratio'] = df['Low'] / df['High']\n",
        "\n",
        "    df['Signal'] = 0\n",
        "    df.loc[df['Ratio'] < rr, 'Signal'] = 1\n",
        "    df.loc[df['Ratio'] >= rr, 'Signal'] = 0\n",
        "\n",
        "    columns_to_replace = ['SMA-21', 'SMA-55', 'SMA-100', 'SMA-200', 'EMA-12', 'EMA-26', 'EMA-50', 'EMA-200']\n",
        "    for column in columns_to_replace:\n",
        "        df[column] = ((adj - df[column]) / adj) * 100\n",
        "\n",
        "    last_row = df.tail(1)\n",
        "    df.dropna(how='any', inplace=True)\n",
        "\n",
        "    features = ['SMA-21', 'SMA-55', 'SMA-100', 'SMA-200', 'EMA-12', 'EMA-26', 'EMA-50',\n",
        "                'EMA-200', 'RSI-5', 'RSI-14', 'MACD', 'BB_upper', 'BB_middle', 'BB_lower',\n",
        "                'ADX','ATR','ADOSC','dc_period','dc_phase']\n",
        "\n",
        "    target = 'Signal'\n",
        "    X = df[features]\n",
        "    y = df[target].values\n",
        "\n",
        "    # Preprocess the data\n",
        "    scaler = MinMaxScaler(feature_range=(0, 1))\n",
        "    X = scaler.fit_transform(X)\n",
        "\n",
        "    # Split the preprocessed data into training and testing sets\n",
        "    X_train, X_test, y_train, y_test = train_test_split(X, y, test_size=0.2)\n",
        "\n",
        "    # Define the optimized classifiers\n",
        "    classifiers = [\n",
        "        ('Bagging Classifier', BaggingClassifier(n_estimators=30, max_samples=1.0, max_features=1.0)),\n",
        "        ('Gradient Boosting', GradientBoostingClassifier(n_estimators=150, learning_rate=0.1, max_depth=7)),\n",
        "        ('KNN', KNeighborsClassifier(n_neighbors=3, weights='distance')),\n",
        "        ('Random Forest', RandomForestClassifier(n_estimators=300, max_depth=7, min_samples_split=2)),\n",
        "        ('lgb_model', LGBMClassifier(objective='binary', metric='binary_logloss', verbose=0, force_col_wise=True)),\n",
        "        ('catboost_model', CatBoostClassifier(loss_function='Logloss', verbose=0))\n",
        "    ]\n",
        "\n",
        "    # Train and evaluate the classifiers\n",
        "    voting_clf_hard = VotingClassifier(estimators=classifiers, voting='hard')\n",
        "    voting_clf_hard.fit(X_train, y_train)\n",
        "\n",
        "    # Evaluate the soft voting classifier on the testing set\n",
        "    y_pred_hard = voting_clf_hard.predict(X_test)\n",
        "    print(\"Confusion Matrix:\")\n",
        "    print(confusion_matrix(y_test, y_pred_hard))\n",
        "    print(\"Accuracy:\", accuracy_score(y_test, y_pred_hard) * 100)\n",
        "    print(\"Precision:\", precision_score(y_test, y_pred_hard) * 100)\n",
        "\n",
        "\n",
        "\n",
        "    # Extract features from the last row\n",
        "    features_last_row = last_row[features]\n",
        "\n",
        "    # Preprocess the features of the last row\n",
        "    features_last_row = scaler.transform(features_last_row)\n",
        "\n",
        "    # Make the prediction\n",
        "    predicted_signal = voting_clf_hard.predict(features_last_row)\n",
        "\n",
        "\n",
        "    # Assign the predicted value to the 'Signal' column of the last row\n",
        "    last_row.loc[:, 'Signal'] = predicted_signal\n",
        "\n",
        "    # Return the predicted signal\n",
        "    return last_row['Signal'].values[0]"
      ],
      "metadata": {
        "id": "ltZ077haV47J"
      },
      "execution_count": 7,
      "outputs": []
    },
    {
      "cell_type": "code",
      "source": [
        "import warnings\n",
        "\n",
        "# Ignore all warnings\n",
        "warnings.filterwarnings(\"ignore\")\n",
        "\n",
        "tickers = [\"^NSEBANK\", \"^CNXIT\", \"^CNXENERGY\", \"^CNXFMCG\", \"^CNXAUTO\",\n",
        "           \"^CNXMETAL\", \"^CNXREALTY\", \"^CNXMEDIA\", \"^CNXCONSUM\",\n",
        "           \"^CNXINFRA\", \"^CNXPSUBANK\", \"^CNXPSE\", \"^CNXSERVICE\"]\n",
        "\n",
        "bullish_sectors = []\n",
        "\n",
        "for i in tickers:\n",
        "    try:\n",
        "        signal = get_signal(i, tr_pct, rr, no_of_days)\n",
        "        if signal == 1:\n",
        "            bullish_sectors.append(i)\n",
        "            print(f\"{i} is bullish\")\n",
        "        else:\n",
        "            print(f\"{i} is expected to give below average return\")\n",
        "    except Exception as e:\n",
        "        print(f\"Error processing {i}: {e}\")\n"
      ],
      "metadata": {
        "colab": {
          "base_uri": "https://localhost:8080/"
        },
        "id": "EJgJ23kzV7yg",
        "outputId": "29e68915-de1f-48fa-d515-f468366351f7"
      },
      "execution_count": 8,
      "outputs": [
        {
          "output_type": "stream",
          "name": "stderr",
          "text": [
            "\r[*********************100%***********************]  1 of 1 completed\n"
          ]
        },
        {
          "output_type": "stream",
          "name": "stdout",
          "text": [
            "Confusion Matrix:\n",
            "[[269  83]\n",
            " [ 90 299]]\n",
            "Accuracy: 76.6531713900135\n",
            "Precision: 78.27225130890052\n"
          ]
        },
        {
          "output_type": "stream",
          "name": "stderr",
          "text": [
            "\r[*********************100%***********************]  1 of 1 completed\n"
          ]
        },
        {
          "output_type": "stream",
          "name": "stdout",
          "text": [
            "Confusion Matrix:\n",
            "[[288 125]\n",
            " [196 132]]\n",
            "Accuracy: 56.68016194331984\n",
            "Precision: 51.36186770428015\n",
            "^NSEBANK is expected to give below average return\n"
          ]
        },
        {
          "output_type": "stream",
          "name": "stderr",
          "text": [
            "[*********************100%***********************]  1 of 1 completed\n",
            "[*********************100%***********************]  1 of 1 completed"
          ]
        },
        {
          "output_type": "stream",
          "name": "stdout",
          "text": [
            "Confusion Matrix:\n",
            "[[252 114]\n",
            " [ 75 297]]\n",
            "Accuracy: 74.39024390243902\n",
            "Precision: 72.26277372262774\n"
          ]
        },
        {
          "output_type": "stream",
          "name": "stderr",
          "text": [
            "\n"
          ]
        },
        {
          "output_type": "stream",
          "name": "stdout",
          "text": [
            "Confusion Matrix:\n",
            "[[299  72]\n",
            " [238 129]]\n",
            "Accuracy: 57.994579945799465\n",
            "Precision: 64.17910447761194\n",
            "^CNXIT is expected to give below average return\n"
          ]
        },
        {
          "output_type": "stream",
          "name": "stderr",
          "text": [
            "[*********************100%***********************]  1 of 1 completed\n",
            "[*********************100%***********************]  1 of 1 completed"
          ]
        },
        {
          "output_type": "stream",
          "name": "stdout",
          "text": [
            "Confusion Matrix:\n",
            "[[224  65]\n",
            " [ 76 266]]\n",
            "Accuracy: 77.65451664025356\n",
            "Precision: 80.36253776435045\n"
          ]
        },
        {
          "output_type": "stream",
          "name": "stderr",
          "text": [
            "\n"
          ]
        },
        {
          "output_type": "stream",
          "name": "stdout",
          "text": [
            "Confusion Matrix:\n",
            "[[258  69]\n",
            " [188 116]]\n",
            "Accuracy: 59.27099841521395\n",
            "Precision: 62.70270270270271\n",
            "^CNXENERGY is expected to give below average return\n"
          ]
        },
        {
          "output_type": "stream",
          "name": "stderr",
          "text": [
            "\r[*********************100%***********************]  1 of 1 completed\n"
          ]
        },
        {
          "output_type": "stream",
          "name": "stdout",
          "text": [
            "Confusion Matrix:\n",
            "[[221  63]\n",
            " [ 70 277]]\n",
            "Accuracy: 78.92234548335975\n",
            "Precision: 81.47058823529412\n",
            "^CNXFMCG is expected to give below average return\n"
          ]
        },
        {
          "output_type": "stream",
          "name": "stderr",
          "text": [
            "[*********************100%***********************]  1 of 1 completed\n",
            "[*********************100%***********************]  1 of 1 completed"
          ]
        },
        {
          "output_type": "stream",
          "name": "stdout",
          "text": [
            "Confusion Matrix:\n",
            "[[198  68]\n",
            " [ 86 257]]\n",
            "Accuracy: 74.71264367816092\n",
            "Precision: 79.07692307692308\n"
          ]
        },
        {
          "output_type": "stream",
          "name": "stderr",
          "text": [
            "\n"
          ]
        },
        {
          "output_type": "stream",
          "name": "stdout",
          "text": [
            "Confusion Matrix:\n",
            "[[220  92]\n",
            " [177 120]]\n",
            "Accuracy: 55.82922824302135\n",
            "Precision: 56.60377358490566\n",
            "^CNXAUTO is bullish\n"
          ]
        },
        {
          "output_type": "stream",
          "name": "stderr",
          "text": [
            "\r[*********************100%***********************]  1 of 1 completed\n"
          ]
        },
        {
          "output_type": "stream",
          "name": "stdout",
          "text": [
            "Confusion Matrix:\n",
            "[[242  64]\n",
            " [ 73 230]]\n",
            "Accuracy: 77.504105090312\n",
            "Precision: 78.2312925170068\n",
            "^CNXMETAL is expected to give below average return\n"
          ]
        },
        {
          "output_type": "stream",
          "name": "stderr",
          "text": [
            "[*********************100%***********************]  1 of 1 completed\n",
            "[*********************100%***********************]  1 of 1 completed"
          ]
        },
        {
          "output_type": "stream",
          "name": "stdout",
          "text": [
            "Confusion Matrix:\n",
            "[[231  82]\n",
            " [ 72 273]]\n",
            "Accuracy: 76.59574468085107\n",
            "Precision: 76.90140845070422\n"
          ]
        },
        {
          "output_type": "stream",
          "name": "stderr",
          "text": [
            "\n"
          ]
        },
        {
          "output_type": "stream",
          "name": "stdout",
          "text": [
            "Confusion Matrix:\n",
            "[[243  85]\n",
            " [170 160]]\n",
            "Accuracy: 61.246200607902736\n",
            "Precision: 65.3061224489796\n",
            "^CNXREALTY is bullish\n"
          ]
        },
        {
          "output_type": "stream",
          "name": "stderr",
          "text": [
            "\r[*********************100%***********************]  1 of 1 completed\n"
          ]
        },
        {
          "output_type": "stream",
          "name": "stdout",
          "text": [
            "Confusion Matrix:\n",
            "[[241  56]\n",
            " [ 76 232]]\n",
            "Accuracy: 78.18181818181819\n",
            "Precision: 80.55555555555556\n",
            "^CNXMEDIA is expected to give below average return\n"
          ]
        },
        {
          "output_type": "stream",
          "name": "stderr",
          "text": [
            "[*********************100%***********************]  1 of 1 completed\n",
            "[*********************100%***********************]  1 of 1 completed"
          ]
        },
        {
          "output_type": "stream",
          "name": "stdout",
          "text": [
            "Confusion Matrix:\n",
            "[[195  93]\n",
            " [ 55 265]]\n",
            "Accuracy: 75.6578947368421\n",
            "Precision: 74.02234636871509\n"
          ]
        },
        {
          "output_type": "stream",
          "name": "stderr",
          "text": [
            "\n"
          ]
        },
        {
          "output_type": "stream",
          "name": "stdout",
          "text": [
            "Confusion Matrix:\n",
            "[[223  93]\n",
            " [177 115]]\n",
            "Accuracy: 55.5921052631579\n",
            "Precision: 55.28846153846154\n",
            "^CNXCONSUM is expected to give below average return\n"
          ]
        },
        {
          "output_type": "stream",
          "name": "stderr",
          "text": [
            "[*********************100%***********************]  1 of 1 completed\n",
            "[*********************100%***********************]  1 of 1 completed"
          ]
        },
        {
          "output_type": "stream",
          "name": "stdout",
          "text": [
            "Confusion Matrix:\n",
            "[[261  70]\n",
            " [ 73 254]]\n",
            "Accuracy: 78.26747720364742\n",
            "Precision: 78.39506172839506\n"
          ]
        },
        {
          "output_type": "stream",
          "name": "stderr",
          "text": [
            "\n"
          ]
        },
        {
          "output_type": "stream",
          "name": "stdout",
          "text": [
            "Confusion Matrix:\n",
            "[[271  74]\n",
            " [198 115]]\n",
            "Accuracy: 58.662613981762924\n",
            "Precision: 60.84656084656085\n",
            "^CNXINFRA is expected to give below average return\n"
          ]
        },
        {
          "output_type": "stream",
          "name": "stderr",
          "text": [
            "\r[*********************100%***********************]  1 of 1 completed\n"
          ]
        },
        {
          "output_type": "stream",
          "name": "stdout",
          "text": [
            "Confusion Matrix:\n",
            "[[245  57]\n",
            " [ 81 248]]\n",
            "Accuracy: 78.12995245641838\n",
            "Precision: 81.31147540983606\n",
            "^CNXPSUBANK is expected to give below average return\n"
          ]
        },
        {
          "output_type": "stream",
          "name": "stderr",
          "text": [
            "[*********************100%***********************]  1 of 1 completed\n",
            "[*********************100%***********************]  1 of 1 completed"
          ]
        },
        {
          "output_type": "stream",
          "name": "stdout",
          "text": [
            "Confusion Matrix:\n",
            "[[239  97]\n",
            " [ 53 242]]\n",
            "Accuracy: 76.2282091917591\n",
            "Precision: 71.38643067846607\n"
          ]
        },
        {
          "output_type": "stream",
          "name": "stderr",
          "text": [
            "\n"
          ]
        },
        {
          "output_type": "stream",
          "name": "stdout",
          "text": [
            "Confusion Matrix:\n",
            "[[242  65]\n",
            " [194 130]]\n",
            "Accuracy: 58.9540412044374\n",
            "Precision: 66.66666666666666\n",
            "^CNXPSE is expected to give below average return\n"
          ]
        },
        {
          "output_type": "stream",
          "name": "stderr",
          "text": [
            "[*********************100%***********************]  1 of 1 completed\n",
            "[*********************100%***********************]  1 of 1 completed"
          ]
        },
        {
          "output_type": "stream",
          "name": "stdout",
          "text": [
            "Confusion Matrix:\n",
            "[[222  89]\n",
            " [ 57 263]]\n",
            "Accuracy: 76.8621236133122\n",
            "Precision: 74.7159090909091\n"
          ]
        },
        {
          "output_type": "stream",
          "name": "stderr",
          "text": [
            "\n"
          ]
        },
        {
          "output_type": "stream",
          "name": "stdout",
          "text": [
            "Confusion Matrix:\n",
            "[[271  84]\n",
            " [172 104]]\n",
            "Accuracy: 59.42947702060222\n",
            "Precision: 55.319148936170215\n",
            "^CNXSERVICE is expected to give below average return\n"
          ]
        }
      ]
    },
    {
      "cell_type": "code",
      "source": [
        "NSEBANK = [\n",
        "    \"AUBANK.NS\", \"AXISBANK.NS\", \"BANDHANBNK.NS\", \"BANKBARODA.NS\", \"FEDERALBNK.NS\",\n",
        "    \"HDFCBANK.NS\", \"ICICIBANK.NS\", \"IDFCFIRSTB.NS\", \"INDUSINDBK.NS\", \"KOTAKBANK.NS\",\n",
        "    \"PNB.NS\", \"SBIN.NS\"\n",
        "]\n",
        "\n",
        "CNXIT = [\n",
        "    \"COFORGE.NS\", \"HCLTECH.NS\", \"INFY.NS\", \"LTTS.NS\", \"LTIM.NS\",\n",
        "    \"MPHASIS.NS\", \"PERSISTENT.NS\", \"TCS.NS\", \"TECHM.NS\", \"WIPRO.NS\"\n",
        "]\n",
        "\n",
        "CNXENERGY = [\n",
        "    \"ADANIGREEN.NS\", \"BPCL.NS\", \"GAIL.NS\", \"HINDPETRO.NS\", \"IOC.NS\",\n",
        "    \"NTPC.NS\", \"ONGC.NS\", \"POWERGRID.NS\", \"RELIANCE.NS\", \"TATAPOWER.NS\"\n",
        "]\n",
        "\n",
        "CNXFMCG = [\n",
        "    \"BRITANNIA.NS\", \"COLPAL.NS\", \"DABUR.NS\", \"EMAMILTD.NS\", \"GODREJCP.NS\",\n",
        "    \"HINDUNILVR.NS\", \"ITC.NS\", \"JUBLFOOD.NS\", \"MARICO.NS\", \"NESTLEIND.NS\",\n",
        "    \"PGHH.NS\", \"TATACONSUM.NS\", \"UBL.NS\", \"MCDOWELL-N.NS\"\n",
        "]\n",
        "\n",
        "CNXAUTO = [\n",
        "    \"AMARAJABAT.NS\", \"ASHOKLEY.NS\", \"BAJAJ-AUTO.NS\", \"BALKRISIND.NS\",\n",
        "    \"BHARATFORG.NS\", \"BOSCHLTD.NS\", \"EICHERMOT.NS\", \"EXIDEIND.NS\",\n",
        "    \"HEROMOTOCO.NS\", \"M&M.NS\", \"MARUTI.NS\", \"MRF.NS\", \"TATAMOTORS.NS\",\n",
        "    \"TIINDIA.NS\", \"TVSMOTOR.NS\"\n",
        "]\n",
        "\n",
        "CNXMETAL = [\n",
        "    \"ADANIENT.NS\", \"APLAPOLLO.NS\", \"COALINDIA.NS\", \"HINDZINC.NS\",\n",
        "    \"HINDALCO.NS\", \"JINDALSTEL.NS\", \"JSWSTEEL.NS\", \"MOIL.NS\",\n",
        "    \"NATIONALUM.NS\", \"NMDC.NS\", \"RATNAMANI.NS\", \"SAIL.NS\", \"TATASTEEL.NS\",\n",
        "    \"VEDL.NS\", \"WELCORP.NS\"\n",
        "]\n",
        "\n",
        "CNXREALTY = [\n",
        "    \"BRIGADE.NS\", \"DLF.NS\", \"GODREJPROP.NS\", \"IBREALEST.NS\",\n",
        "    \"OBEROIRLTY.NS\", \"PHOENIXLTD.NS\", \"PRESTIGE.NS\", \"SOBHA.NS\", \"SUNTECK.NS\"\n",
        "]\n",
        "\n",
        "CNXMEDIA = [\n",
        "    \"DBCORP.NS\", \"DISHTV.NS\",\"JAGRAN.NS\", \"NETWORK18.NS\",\n",
        "    \"SUNTV.NS\", \"TVTODAY.NS\", \"TV18BRDCST.NS\", \"ZEEL.NS\"\n",
        "]\n",
        "\n",
        "CNXCONSUM = [\n",
        "    \"APOLLOHOSP.NS\", \"ASIANPAINT.NS\", \"AVANTIFEED.NS\", \"BAJAJ-AUTO.NS\", \"BERGEPAINT.NS\",\n",
        "    \"BHARTIARTL.NS\", \"BRITANNIA.NS\", \"CGCL.NS\", \"COLPAL.NS\", \"DABUR.NS\",\n",
        "    \"EICHERMOT.NS\", \"GODREJCP.NS\", \"HAVELLS.NS\", \"HEROMOTOCO.NS\", \"HINDUNILVR.NS\",\n",
        "    \"NAUKRI.NS\", \"INDIGO.NS\", \"ITC.NS\", \"JUBLFOOD.NS\", \"M&M.NS\",\n",
        "    \"MARICO.NS\", \"MARUTI.NS\", \"NESTLEIND.NS\", \"PAGEIND.NS\", \"TATACONSUM.NS\",\n",
        "    \"TITAN.NS\", \"TRENT.NS\", \"MCDOWELL-N.NS\", \"VOLTAS.NS\", \"ZEEL.NS\"\n",
        "]\n",
        "\n",
        "CNXINFRA = [\n",
        "    \"ACC.NS\", \"ADANIPORTS.NS\", \"AMBUJACEM.NS\", \"APOLLOHOSP.NS\", \"ASHOKLEY.NS\",\n",
        "    \"BALKRISIND.NS\", \"BHARTIARTL.NS\", \"BPCL.NS\", \"CONCOR.NS\", \"DLF.NS\",\n",
        "    \"EXIDEIND.NS\", \"GAIL.NS\", \"GRASIM.NS\", \"HINDPETRO.NS\", \"IGL.NS\",\n",
        "    \"INDUSTOWER.NS\", \"INDIGO.NS\", \"IOC.NS\", \"LT.NS\", \"MRF.NS\",\n",
        "    \"NTPC.NS\", \"ONGC.NS\", \"PETRONET.NS\", \"POWERGRID.NS\", \"RAMCOCEM.NS\",\n",
        "    \"RELIANCE.NS\", \"SHREECEM.NS\", \"SIEMENS.NS\", \"TATAPOWER.NS\", \"ULTRACEMCO.NS\"\n",
        "]\n",
        "\n",
        "CNXPSUBANK = [\n",
        "    \"BANKBARODA.NS\", \"BANKINDIA.NS\", \"MAHABANK.NS\", \"CANBK.NS\", \"CENTRALBK.NS\",\n",
        "    \"INDIANB.NS\", \"IOB.NS\", \"J&KBANK.NS\", \"PNB.NS\", \"PSB.NS\",\n",
        "    \"SBIN.NS\", \"UCOBANK.NS\", \"UNIONBANK.NS\"\n",
        "]\n",
        "\n",
        "CNXPSE = [\n",
        "    \"BEL.NS\", \"BHEL.NS\", \"BPCL.NS\", \"COALINDIA.NS\", \"CONCOR.NS\",\n",
        "    \"GAIL.NS\", \"HINDPETRO.NS\", \"HAL.NS\", \"IOC.NS\", \"IRCTC.NS\",\n",
        "    \"NATIONALUM.NS\", \"NHPC.NS\", \"NMDC.NS\", \"NTPC.NS\", \"OIL.NS\",\n",
        "    \"ONGC.NS\", \"PFC.NS\", \"POWERGRID.NS\", \"RECLTD.NS\", \"SAIL.NS\"\n",
        "]\n",
        "\n",
        "CNXSERVICE = [\n",
        "    \"ADANIGREEN.NS\", \"ADANIPORTS.NS\", \"DMART.NS\", \"AXISBANK.NS\", \"BAJFINANCE.NS\",\n",
        "    \"BAJAJFINSV.NS\", \"BANDHANBNK.NS\", \"BHARTIARTL.NS\", \"GAIL.NS\", \"HCLTECH.NS\",\n",
        "    \"HDFCBANK.NS\", \"HDFCLIFE.NS\", \"ICICIBANK.NS\", \"ICICIGI.NS\",\n",
        "    \"ICICIPRULI.NS\", \"INDUSINDBK.NS\", \"NAUKRI.NS\", \"INFY.NS\",\n",
        "    \"KOTAKBANK.NS\", \"NTPC.NS\", \"PETRONET.NS\", \"POWERGRID.NS\",\n",
        "    \"SBIN.NS\", \"SBILIFE.NS\", \"SHRIRAMFIN.NS\", \"TCS.NS\",\n",
        "    \"TECHM.NS\", \"WIPRO.NS\", \"ZEEL.NS\"\n",
        "]"
      ],
      "metadata": {
        "id": "SdY8sxb3Yq0l"
      },
      "execution_count": 9,
      "outputs": []
    },
    {
      "cell_type": "code",
      "source": [
        "import warnings\n",
        "\n",
        "# Ignore all warnings\n",
        "warnings.filterwarnings(\"ignore\")\n",
        "\n",
        "\n",
        "tickers = []\n",
        "\n",
        "# Create a dictionary to map sectors to their respective lists\n",
        "sector_lists = {\n",
        "    '^NSEBANK': NSEBANK,\n",
        "    '^CNXIT': CNXIT,\n",
        "    '^CNXMETAL': CNXMETAL,\n",
        "    '^CNXINFRA': CNXINFRA,\n",
        "    '^CNXPSE': CNXPSE,\n",
        "    '^CNXENERGY':CNXENERGY,\n",
        "    '^CNXFMCG':CNXFMCG,\n",
        "    '^CNXAUTO':CNXAUTO,\n",
        "    '^CNXREALTY':CNXREALTY,\n",
        "    '^CNXMEDIA':CNXMEDIA,\n",
        "    '^CNXCONSUM':CNXCONSUM,\n",
        "    '^CNXPSUBANK':CNXPSUBANK,\n",
        "    '^CNXSERVICE':CNXSERVICE\n",
        "\n",
        "}\n",
        "\n",
        "\n",
        "# Loop through the bullish sectors and access the corresponding list\n",
        "for sector in bullish_sectors:\n",
        "    try:\n",
        "        if sector in sector_lists:\n",
        "            stock_list = sector_lists[sector]\n",
        "            for i in stock_list:\n",
        "                if get_signal(i,tr_pct,rr,no_of_days) == 1:\n",
        "                    tickers.append(i)\n",
        "                    print(f\"{i} is bullish\")\n",
        "\n",
        "                else:\n",
        "                    print(f\"{i} is expected to give below average return\")\n",
        "\n",
        "        else:\n",
        "            print(f\"No list found for sector {sector}\")\n",
        "\n",
        "    except:\n",
        "        pass\n",
        "\n",
        "\n",
        "tickers = list(set(tickers))"
      ],
      "metadata": {
        "colab": {
          "base_uri": "https://localhost:8080/"
        },
        "id": "hRjmxVR-s6TO",
        "outputId": "56530d79-3bb6-44e5-d83c-b3eaeb7d2f06"
      },
      "execution_count": 10,
      "outputs": [
        {
          "output_type": "stream",
          "name": "stderr",
          "text": [
            "\r[*********************100%***********************]  1 of 1 completed\n",
            "ERROR:yfinance:\n",
            "1 Failed download:\n",
            "ERROR:yfinance:['AMARAJABAT.NS']: YFTzMissingError('$%ticker%: possibly delisted; no timezone found')\n",
            "[*********************100%***********************]  1 of 1 completed\n",
            "[*********************100%***********************]  1 of 1 completed"
          ]
        },
        {
          "output_type": "stream",
          "name": "stdout",
          "text": [
            "Confusion Matrix:\n",
            "[[312  73]\n",
            " [ 89 312]]\n",
            "Accuracy: 79.38931297709924\n",
            "Precision: 81.03896103896105\n"
          ]
        },
        {
          "output_type": "stream",
          "name": "stderr",
          "text": [
            "\n"
          ]
        },
        {
          "output_type": "stream",
          "name": "stdout",
          "text": [
            "Confusion Matrix:\n",
            "[[338  70]\n",
            " [213 165]]\n",
            "Accuracy: 63.99491094147582\n",
            "Precision: 70.2127659574468\n",
            "BRIGADE.NS is bullish\n"
          ]
        },
        {
          "output_type": "stream",
          "name": "stderr",
          "text": [
            "[*********************100%***********************]  1 of 1 completed\n",
            "[*********************100%***********************]  1 of 1 completed"
          ]
        },
        {
          "output_type": "stream",
          "name": "stdout",
          "text": [
            "Confusion Matrix:\n",
            "[[312  97]\n",
            " [ 87 315]]\n",
            "Accuracy: 77.31196054254006\n",
            "Precision: 76.45631067961165\n"
          ]
        },
        {
          "output_type": "stream",
          "name": "stderr",
          "text": [
            "\n"
          ]
        },
        {
          "output_type": "stream",
          "name": "stdout",
          "text": [
            "Confusion Matrix:\n",
            "[[362  76]\n",
            " [248 125]]\n",
            "Accuracy: 60.04932182490752\n",
            "Precision: 62.189054726368155\n",
            "DLF.NS is bullish\n"
          ]
        },
        {
          "output_type": "stream",
          "name": "stderr",
          "text": [
            "[*********************100%***********************]  1 of 1 completed\n",
            "[*********************100%***********************]  1 of 1 completed"
          ]
        },
        {
          "output_type": "stream",
          "name": "stdout",
          "text": [
            "Confusion Matrix:\n",
            "[[271  83]\n",
            " [ 77 257]]\n",
            "Accuracy: 76.74418604651163\n",
            "Precision: 75.58823529411765\n"
          ]
        },
        {
          "output_type": "stream",
          "name": "stderr",
          "text": [
            "\n"
          ]
        },
        {
          "output_type": "stream",
          "name": "stdout",
          "text": [
            "Confusion Matrix:\n",
            "[[314  66]\n",
            " [211  97]]\n",
            "Accuracy: 59.73837209302325\n",
            "Precision: 59.50920245398773\n",
            "GODREJPROP.NS is expected to give below average return\n"
          ]
        },
        {
          "output_type": "stream",
          "name": "stderr",
          "text": [
            "\r[*********************100%***********************]  1 of 1 completed\n"
          ]
        },
        {
          "output_type": "stream",
          "name": "stdout",
          "text": [
            "Confusion Matrix:\n",
            "[[405  93]\n",
            " [121 330]]\n",
            "Accuracy: 77.44994731296102\n",
            "Precision: 78.01418439716312\n",
            "IBREALEST.NS is expected to give below average return\n"
          ]
        },
        {
          "output_type": "stream",
          "name": "stderr",
          "text": [
            "[*********************100%***********************]  1 of 1 completed\n",
            "[*********************100%***********************]  1 of 1 completed"
          ]
        },
        {
          "output_type": "stream",
          "name": "stdout",
          "text": [
            "Confusion Matrix:\n",
            "[[272  64]\n",
            " [ 71 241]]\n",
            "Accuracy: 79.16666666666666\n",
            "Precision: 79.01639344262294\n"
          ]
        },
        {
          "output_type": "stream",
          "name": "stderr",
          "text": [
            "\n"
          ]
        },
        {
          "output_type": "stream",
          "name": "stdout",
          "text": [
            "Confusion Matrix:\n",
            "[[302  61]\n",
            " [202  83]]\n",
            "Accuracy: 59.413580246913575\n",
            "Precision: 57.638888888888886\n",
            "OBEROIRLTY.NS is bullish\n"
          ]
        },
        {
          "output_type": "stream",
          "name": "stderr",
          "text": [
            "[*********************100%***********************]  1 of 1 completed\n",
            "[*********************100%***********************]  1 of 1 completed"
          ]
        },
        {
          "output_type": "stream",
          "name": "stdout",
          "text": [
            "Confusion Matrix:\n",
            "[[324 109]\n",
            " [110 278]]\n",
            "Accuracy: 73.32521315468941\n",
            "Precision: 71.83462532299741\n"
          ]
        },
        {
          "output_type": "stream",
          "name": "stderr",
          "text": [
            "\n"
          ]
        },
        {
          "output_type": "stream",
          "name": "stdout",
          "text": [
            "Confusion Matrix:\n",
            "[[394  79]\n",
            " [235 113]]\n",
            "Accuracy: 61.75395858708892\n",
            "Precision: 58.854166666666664\n",
            "PHOENIXLTD.NS is expected to give below average return\n"
          ]
        },
        {
          "output_type": "stream",
          "name": "stderr",
          "text": [
            "[*********************100%***********************]  1 of 1 completed\n",
            "[*********************100%***********************]  1 of 1 completed"
          ]
        },
        {
          "output_type": "stream",
          "name": "stdout",
          "text": [
            "Confusion Matrix:\n",
            "[[256  69]\n",
            " [ 75 247]]\n",
            "Accuracy: 77.74343122102009\n",
            "Precision: 78.16455696202532\n"
          ]
        },
        {
          "output_type": "stream",
          "name": "stderr",
          "text": [
            "\n"
          ]
        },
        {
          "output_type": "stream",
          "name": "stdout",
          "text": [
            "Confusion Matrix:\n",
            "[[304  68]\n",
            " [166 109]]\n",
            "Accuracy: 63.83307573415765\n",
            "Precision: 61.5819209039548\n",
            "PRESTIGE.NS is bullish\n"
          ]
        },
        {
          "output_type": "stream",
          "name": "stderr",
          "text": [
            "[*********************100%***********************]  1 of 1 completed\n",
            "[*********************100%***********************]  1 of 1 completed"
          ]
        },
        {
          "output_type": "stream",
          "name": "stdout",
          "text": [
            "Confusion Matrix:\n",
            "[[359  78]\n",
            " [123 277]]\n",
            "Accuracy: 75.98566308243727\n",
            "Precision: 78.0281690140845\n"
          ]
        },
        {
          "output_type": "stream",
          "name": "stderr",
          "text": [
            "\n"
          ]
        },
        {
          "output_type": "stream",
          "name": "stdout",
          "text": [
            "Confusion Matrix:\n",
            "[[385  79]\n",
            " [249 124]]\n",
            "Accuracy: 60.81242532855436\n",
            "Precision: 61.083743842364534\n",
            "SOBHA.NS is bullish\n"
          ]
        },
        {
          "output_type": "stream",
          "name": "stderr",
          "text": [
            "\r[*********************100%***********************]  1 of 1 completed\n"
          ]
        },
        {
          "output_type": "stream",
          "name": "stdout",
          "text": [
            "Confusion Matrix:\n",
            "[[321  48]\n",
            " [ 88 238]]\n",
            "Accuracy: 80.43165467625899\n",
            "Precision: 83.21678321678321\n",
            "SUNTECK.NS is expected to give below average return\n"
          ]
        }
      ]
    },
    {
      "cell_type": "code",
      "source": [
        "tickers"
      ],
      "metadata": {
        "colab": {
          "base_uri": "https://localhost:8080/"
        },
        "id": "r7fA8_KPs683",
        "outputId": "9484bd54-5358-4aa1-87b8-30cb2b4d802b"
      },
      "execution_count": 11,
      "outputs": [
        {
          "output_type": "execute_result",
          "data": {
            "text/plain": [
              "['DLF.NS', 'OBEROIRLTY.NS', 'PRESTIGE.NS', 'BRIGADE.NS', 'SOBHA.NS']"
            ]
          },
          "metadata": {},
          "execution_count": 11
        }
      ]
    },
    {
      "cell_type": "markdown",
      "source": [
        "##Mean-Varaince Portfolio"
      ],
      "metadata": {
        "id": "TnyUvuM-7lz6"
      }
    },
    {
      "cell_type": "code",
      "source": [
        "# Fetch historical price data using yfinance\n",
        "data = yf.download(tickers, start=start_date, end=end_date)\n",
        "\n",
        "# Extract the adjusted close prices\n",
        "adj_close = data['Adj Close']\n",
        "\n",
        "# Calculate the returns\n",
        "returns = adj_close.dropna()\n",
        "\n",
        "# Fetch the current INR/USD price using yfinance\n",
        "inr_usd_price = yf.Ticker(\"INR=X\").history().iloc[-1]['Close']\n",
        "\n",
        "# Multiply columns ending with \"=F\" by the current INR/USD price\n",
        "columns_to_multiply = [column for column in adj_close.columns if column.endswith('=F')]\n",
        "returns[columns_to_multiply] = returns[columns_to_multiply].multiply(inr_usd_price, axis=1)\n",
        "\n",
        "# Display the returns dataframe\n",
        "print(returns.head())"
      ],
      "metadata": {
        "colab": {
          "base_uri": "https://localhost:8080/"
        },
        "id": "XHWm08xbzMUW",
        "outputId": "44bafaf8-20be-483e-d37a-64ef7c9f9c98"
      },
      "execution_count": 13,
      "outputs": [
        {
          "output_type": "stream",
          "name": "stderr",
          "text": [
            "[*********************100%***********************]  5 of 5 completed\n"
          ]
        },
        {
          "output_type": "stream",
          "name": "stdout",
          "text": [
            "Ticker                     BRIGADE.NS      DLF.NS  OBEROIRLTY.NS  PRESTIGE.NS  \\\n",
            "Date                                                                            \n",
            "2010-10-27 00:00:00+00:00   77.977249  315.421082     269.830261   177.303619   \n",
            "2010-10-28 00:00:00+00:00   77.381584  307.871857     268.900269   183.453964   \n",
            "2010-10-29 00:00:00+00:00   76.700813  304.314148     259.507599   182.994965   \n",
            "2010-11-01 00:00:00+00:00   76.672440  313.512115     256.485199   198.278992   \n",
            "2010-11-02 00:00:00+00:00   76.644089  303.012543     257.136200   187.033997   \n",
            "\n",
            "Ticker                       SOBHA.NS  \n",
            "Date                                   \n",
            "2010-10-27 00:00:00+00:00  316.236786  \n",
            "2010-10-28 00:00:00+00:00  303.843628  \n",
            "2010-10-29 00:00:00+00:00  304.475891  \n",
            "2010-11-01 00:00:00+00:00  309.281494  \n",
            "2010-11-02 00:00:00+00:00  302.536865  \n"
          ]
        }
      ]
    },
    {
      "cell_type": "code",
      "source": [
        "from pypfopt.discrete_allocation import DiscreteAllocation, get_latest_prices\n",
        "from pypfopt import EfficientFrontier\n",
        "from pypfopt import risk_models\n",
        "from pypfopt import expected_returns\n",
        "\n",
        "# Calculate expected returns and sample covariance\n",
        "mu = expected_returns.mean_historical_return(returns, frequency=no_of_days)\n",
        "S = risk_models.sample_cov(returns)\n",
        "\n",
        "# Optimize for maximal Sharpe ratio\n",
        "ef = EfficientFrontier(mu, S)\n",
        "raw_weights = ef.max_sharpe(risk_free_rate=rfr)\n",
        "# print(\"These are the raw weights: \", raw_weights)\n",
        "cleaned_weights = ef.clean_weights()\n",
        "# print(\"These are the cleaned weights: \", cleaned_weights)\n",
        "ef.portfolio_performance(verbose=True)"
      ],
      "metadata": {
        "colab": {
          "base_uri": "https://localhost:8080/"
        },
        "id": "EKvDdlSIzUGZ",
        "outputId": "8c97a6d8-a012-4e9c-a470-757423553e6b"
      },
      "execution_count": 14,
      "outputs": [
        {
          "output_type": "stream",
          "name": "stdout",
          "text": [
            "Expected annual return: 0.4%\n",
            "Annual volatility: 32.3%\n",
            "Sharpe Ratio: 0.01\n"
          ]
        },
        {
          "output_type": "execute_result",
          "data": {
            "text/plain": [
              "(0.0037039180713652987, 0.3228483254907597, 0.008065453235376392)"
            ]
          },
          "metadata": {},
          "execution_count": 14
        }
      ]
    },
    {
      "cell_type": "code",
      "source": [
        "import matplotlib.pyplot as plt\n",
        "\n",
        "# Extract the assets and corresponding weights from the cleaned_weights dictionary\n",
        "assets = list(cleaned_weights.keys())\n",
        "weights = list(cleaned_weights.values())\n",
        "\n",
        "# Filter out labels with 0.0% weight\n",
        "non_zero_assets = [asset for asset, weight in cleaned_weights.items() if weight > 0.0]\n",
        "non_zero_weights = [weight for weight in cleaned_weights.values() if weight > 0.0]\n",
        "\n",
        "# Check if there are non-zero weights\n",
        "if not non_zero_weights:\n",
        "    print(\"No assets with non-zero weights.\")\n",
        "else:\n",
        "    # Create a pie chart\n",
        "    fig, ax = plt.subplots()\n",
        "    wedges, _ = ax.pie(non_zero_weights, startangle=90)\n",
        "\n",
        "    # Set aspect ratio to be equal so that pie is drawn as a circle\n",
        "    ax.axis('equal')\n",
        "\n",
        "    # Create a legend with custom labels using non-zero assets and weights\n",
        "    legend_labels = [f'{label}: {weight:.1%}' for label, weight in zip(non_zero_assets, non_zero_weights)]\n",
        "    ax.legend(wedges, legend_labels, loc='center left', bbox_to_anchor=(1, 0.5))\n",
        "\n",
        "    # Set a title for the pie chart\n",
        "    ax.set_title('Portfolio Allocation')\n",
        "\n",
        "    # Display the pie chart\n",
        "    plt.show()\n"
      ],
      "metadata": {
        "colab": {
          "base_uri": "https://localhost:8080/",
          "height": 428
        },
        "id": "JmwL-35rzZ6i",
        "outputId": "fb920885-8cb2-4a98-b645-da4ea862192a"
      },
      "execution_count": 15,
      "outputs": [
        {
          "output_type": "display_data",
          "data": {
            "text/plain": [
              "<Figure size 640x480 with 1 Axes>"
            ],
            "image/png": "[encoded data removed]"
          },
          "metadata": {}
        }
      ]
    },
    {
      "cell_type": "code",
      "source": [
        "# Fetch historical data for each asset\n",
        "data = yf.download(non_zero_assets, start=end_date, end=end_date_test)\n",
        "\n",
        "# Calculate daily returns for each asset\n",
        "daily_returns = data['Adj Close'].pct_change()\n",
        "\n",
        "# Convert weights to a NumPy array and calculate portfolio value over time\n",
        "weights_array = np.array(non_zero_weights)\n",
        "portfolio_value = np.sum(daily_returns * weights_array, axis=1)\n",
        "\n",
        "# Calculate cumulative portfolio returns\n",
        "cumulative_returns = (1 + portfolio_value).cumprod()\n",
        "overall_percentage_change = (cumulative_returns.iloc[-1] - 1) * 100\n",
        "print(f'Overall Percentage Change: {overall_percentage_change:.2f}%')\n",
        "\n",
        "\n",
        "# Plot the cumulative portfolio returns\n",
        "plt.figure(figsize=(12, 6))\n",
        "plt.plot(cumulative_returns.index, cumulative_returns.values, label='Portfolio', linewidth=2)\n",
        "plt.xlabel('Date')\n",
        "plt.ylabel('Cumulative Returns')\n",
        "plt.title('Portfolio Performance Over Time')\n",
        "plt.grid(True)\n",
        "plt.legend()\n",
        "plt.show()"
      ],
      "metadata": {
        "colab": {
          "base_uri": "https://localhost:8080/",
          "height": 599
        },
        "id": "r103fIHnzf41",
        "outputId": "f7f60536-88a8-4d5c-f415-5b05ca4a7b68"
      },
      "execution_count": 16,
      "outputs": [
        {
          "output_type": "stream",
          "name": "stderr",
          "text": [
            "[*********************100%***********************]  3 of 3 completed\n"
          ]
        },
        {
          "output_type": "stream",
          "name": "stdout",
          "text": [
            "Overall Percentage Change: 2.52%\n"
          ]
        },
        {
          "output_type": "display_data",
          "data": {
            "text/plain": [
              "<Figure size 1200x600 with 1 Axes>"
            ],
            "image/png": "[encoded data removed]"
          },
          "metadata": {}
        }
      ]
    },
    {
      "cell_type": "markdown",
      "source": [
        "##Mean-Semivaraince Portfolio"
      ],
      "metadata": {
        "id": "LTScu3dN7qw2"
      }
    },
    {
      "cell_type": "code",
      "source": [
        "from pypfopt import expected_returns, risk_models\n",
        "from pypfopt.efficient_frontier import EfficientSemivariance\n",
        "\n",
        "# Calculate expected returns and sample covariance\n",
        "mu = expected_returns.mean_historical_return(returns, frequency=no_of_days)\n",
        "S = risk_models.semicovariance(returns)\n",
        "\n",
        "# Optimize for maximal Sharpe ratio\n",
        "ef = EfficientFrontier(mu, S)\n",
        "raw_weights = ef.max_sharpe(risk_free_rate=rfr)\n",
        "# print(\"These are the raw weights: \", raw_weights)\n",
        "cleaned_weights = ef.clean_weights()\n",
        "# print(\"These are the cleaned weights: \", cleaned_weights)\n",
        "ef.portfolio_performance(verbose=True)"
      ],
      "metadata": {
        "colab": {
          "base_uri": "https://localhost:8080/"
        },
        "id": "shwHngRCzj1R",
        "outputId": "dcfccf2e-96a4-448c-d4ea-f8d7a95bf86b"
      },
      "execution_count": 17,
      "outputs": [
        {
          "output_type": "stream",
          "name": "stdout",
          "text": [
            "Expected annual return: 0.4%\n",
            "Annual volatility: 24.3%\n",
            "Sharpe Ratio: 0.01\n"
          ]
        },
        {
          "output_type": "execute_result",
          "data": {
            "text/plain": [
              "(0.003987916384549526, 0.2426538620653317, 0.011901382322824882)"
            ]
          },
          "metadata": {},
          "execution_count": 17
        }
      ]
    },
    {
      "cell_type": "code",
      "source": [
        "import matplotlib.pyplot as plt\n",
        "\n",
        "# Extract the assets and corresponding weights from the cleaned_weights dictionary\n",
        "assets = list(cleaned_weights.keys())\n",
        "weights = list(cleaned_weights.values())\n",
        "\n",
        "# Filter out labels with 0.0% weight\n",
        "non_zero_assets_msv = [asset for asset, weight in cleaned_weights.items() if weight > 0.0]\n",
        "non_zero_weights_msv = [weight for weight in cleaned_weights.values() if weight > 0.0]\n",
        "\n",
        "# Check if there are non-zero weights\n",
        "if not non_zero_weights_msv:\n",
        "    print(\"No assets with non-zero weights.\")\n",
        "else:\n",
        "    # Create a pie chart\n",
        "    fig, ax = plt.subplots()\n",
        "    wedges, _ = ax.pie(non_zero_weights_msv, startangle=90)\n",
        "\n",
        "    # Set aspect ratio to be equal so that pie is drawn as a circle\n",
        "    ax.axis('equal')\n",
        "\n",
        "    # Create a legend with custom labels using non-zero assets and weights\n",
        "    legend_labels = [f'{label}: {weight:.1%}' for label, weight in zip(non_zero_assets_msv, non_zero_weights_msv)]\n",
        "    ax.legend(wedges, legend_labels, loc='center left', bbox_to_anchor=(1, 0.5))\n",
        "\n",
        "    # Set a title for the pie chart\n",
        "    ax.set_title('Portfolio Allocation')\n",
        "\n",
        "    # Display the pie chart\n",
        "    plt.show()\n"
      ],
      "metadata": {
        "colab": {
          "base_uri": "https://localhost:8080/",
          "height": 428
        },
        "id": "r3yzYPKU76ok",
        "outputId": "c3e3e585-a6a8-4e33-8eea-9c19dcde4a77"
      },
      "execution_count": 18,
      "outputs": [
        {
          "output_type": "display_data",
          "data": {
            "text/plain": [
              "<Figure size 640x480 with 1 Axes>"
            ],
            "image/png": "[encoded data removed]"
          },
          "metadata": {}
        }
      ]
    },
    {
      "cell_type": "code",
      "source": [
        "# Fetch historical data for each asset\n",
        "data = yf.download(non_zero_assets_msv, start=end_date, end=end_date_test)\n",
        "\n",
        "# Calculate daily returns for each asset\n",
        "daily_returns = data['Adj Close'].pct_change()\n",
        "\n",
        "# Convert weights to a NumPy array and calculate portfolio value over time\n",
        "weights_array = np.array(non_zero_weights_msv)\n",
        "portfolio_value = np.sum(daily_returns * weights_array, axis=1)\n",
        "\n",
        "# Calculate cumulative portfolio returns\n",
        "cumulative_returns = (1 + portfolio_value).cumprod()\n",
        "overall_percentage_change = (cumulative_returns.iloc[-1] - 1) * 100\n",
        "print(f'Overall Percentage Change: {overall_percentage_change:.2f}%')\n",
        "\n",
        "\n",
        "# Plot the cumulative portfolio returns\n",
        "plt.figure(figsize=(12, 6))\n",
        "plt.plot(cumulative_returns.index, cumulative_returns.values, label='Portfolio', linewidth=2)\n",
        "plt.xlabel('Date')\n",
        "plt.ylabel('Cumulative Returns')\n",
        "plt.title('Portfolio Performance Over Time')\n",
        "plt.grid(True)\n",
        "plt.legend()\n",
        "plt.show()"
      ],
      "metadata": {
        "colab": {
          "base_uri": "https://localhost:8080/",
          "height": 599
        },
        "id": "r-GRNex87_KX",
        "outputId": "c50797f2-78fe-4a61-f80a-ca96cf2ea049"
      },
      "execution_count": 19,
      "outputs": [
        {
          "output_type": "stream",
          "name": "stderr",
          "text": [
            "[*********************100%***********************]  3 of 3 completed\n"
          ]
        },
        {
          "output_type": "stream",
          "name": "stdout",
          "text": [
            "Overall Percentage Change: 1.51%\n"
          ]
        },
        {
          "output_type": "display_data",
          "data": {
            "text/plain": [
              "<Figure size 1200x600 with 1 Axes>"
            ],
            "image/png": "[encoded data removed]"
          },
          "metadata": {}
        }
      ]
    },
    {
      "cell_type": "markdown",
      "source": [
        "##Equal-weighted Portfolio"
      ],
      "metadata": {
        "id": "wE74RLlj8HGP"
      }
    },
    {
      "cell_type": "code",
      "source": [
        "import yfinance as yf\n",
        "import numpy as np\n",
        "import matplotlib.pyplot as plt\n",
        "\n",
        "# Fetch historical data for each asset\n",
        "data = yf.download(assets, start=end_date, end=end_date_test)\n",
        "\n",
        "# Calculate daily returns for each asset\n",
        "daily_returns = data['Adj Close'].pct_change()\n",
        "\n",
        "# Calculate the percentage return for an equally weighted portfolio\n",
        "n_assets = len(assets)\n",
        "weights = np.ones(n_assets) / n_assets\n",
        "portfolio_value = np.sum(daily_returns * weights, axis=1)\n",
        "\n",
        "# Calculate cumulative portfolio returns\n",
        "cumulative_returns = (1 + portfolio_value).cumprod()\n",
        "\n",
        "# Plot the cumulative portfolio returns\n",
        "plt.figure(figsize=(12, 6))\n",
        "plt.plot(cumulative_returns.index, cumulative_returns.values, label='Equal Weighted Portfolio', linewidth=2)\n",
        "plt.xlabel('Date')\n",
        "plt.ylabel('Cumulative Returns')\n",
        "plt.title('Equal Weighted Portfolio Performance Over Time')\n",
        "plt.grid(True)\n",
        "plt.legend()\n",
        "plt.show()\n",
        "\n",
        "# Calculate and print the overall percentage return of the equal weighted portfolio\n",
        "overall_percentage_return = (cumulative_returns.iloc[-1] - 1) * 100\n",
        "print(f'Overall Percentage Return of Equal Weighted Portfolio: {overall_percentage_return:.2f}%')\n"
      ],
      "metadata": {
        "colab": {
          "base_uri": "https://localhost:8080/",
          "height": 599
        },
        "id": "5ZOEixrH8GZi",
        "outputId": "61240aeb-e09e-450f-8069-89197b069e87"
      },
      "execution_count": 20,
      "outputs": [
        {
          "output_type": "stream",
          "name": "stderr",
          "text": [
            "[*********************100%***********************]  5 of 5 completed\n"
          ]
        },
        {
          "output_type": "display_data",
          "data": {
            "text/plain": [
              "<Figure size 1200x600 with 1 Axes>"
            ],
            "image/png": "[encoded data removed]"
          },
          "metadata": {}
        },
        {
          "output_type": "stream",
          "name": "stdout",
          "text": [
            "Overall Percentage Return of Equal Weighted Portfolio: 3.86%\n"
          ]
        }
      ]
    },
    {
      "cell_type": "markdown",
      "source": [
        "##Max Sharpe Portfolio"
      ],
      "metadata": {
        "id": "1tiKC1Hx8Y3G"
      }
    },
    {
      "cell_type": "code",
      "source": [
        "import pandas as pd\n",
        "import numpy as np\n",
        "import yfinance as yf\n",
        "\n",
        "try:\n",
        "\n",
        "    # Define the list of stock tickers\n",
        "\n",
        "    # Retrieve historical price data\n",
        "    data = adj_close\n",
        "\n",
        "    # Calculate stock returns for the selected tickers\n",
        "    returns = data[tickers].pct_change().dropna()\n",
        "\n",
        "    # Number of stocks\n",
        "    num_stocks = len(tickers)\n",
        "\n",
        "    # Generate random portfolio weights\n",
        "    weights = np.random.random(num_stocks)\n",
        "    weights /= np.sum(weights)\n",
        "\n",
        "    # Define the risk-free rate\n",
        "    risk_free_rate = rfr\n",
        "\n",
        "    # Initialize variables for maximum Sharpe ratio calculation\n",
        "    max_sharpe_ratio = float('-inf')\n",
        "    optimal_weights = None\n",
        "\n",
        "    # Calculate returns and volatility for each set of weights\n",
        "    for _ in range(100000):\n",
        "        weights = np.random.random(num_stocks)\n",
        "        weights /= np.sum(weights)\n",
        "\n",
        "        portfolio_return = np.dot(returns.mean().values, weights) * no_of_days\n",
        "        portfolio_volatility = np.sqrt(np.dot(weights.T, np.dot(returns.cov() * no_of_days, weights)))\n",
        "\n",
        "        sharpe_ratio = (portfolio_return - risk_free_rate) / portfolio_volatility\n",
        "\n",
        "        if sharpe_ratio > max_sharpe_ratio:\n",
        "            max_sharpe_ratio = sharpe_ratio\n",
        "            optimal_weights = weights\n",
        "\n",
        "    portfolio_value = 100000\n",
        "\n",
        "    # Calculate the investment amount for each stock\n",
        "    investment_amounts = optimal_weights * portfolio_value\n",
        "\n",
        "    # Retrieve current price data\n",
        "    current_data = yf.download(tickers, period='1d')['Close']\n",
        "\n",
        "    # Calculate the current value of each stock\n",
        "    current_values = current_data.iloc[-1]\n",
        "\n",
        "    # Calculate the number of stocks for each investment amount\n",
        "    num_stocks = (investment_amounts // current_values)\n",
        "\n",
        "    # Print the tickers with their investment amounts\n",
        "    for i, ticker in enumerate(tickers):\n",
        "        ratio = investment_amounts[i]/portfolio_value\n",
        "    #     print(f'{ticker}: {ratio}')\n",
        "except:\n",
        "    pass"
      ],
      "metadata": {
        "colab": {
          "base_uri": "https://localhost:8080/"
        },
        "id": "2XxadBVD8axY",
        "outputId": "61a1bbc4-a776-4a88-a0e4-56c854611f8f"
      },
      "execution_count": 21,
      "outputs": [
        {
          "output_type": "stream",
          "name": "stderr",
          "text": [
            "[*********************100%***********************]  5 of 5 completed\n"
          ]
        }
      ]
    },
    {
      "cell_type": "code",
      "source": [
        "import matplotlib.pyplot as plt\n",
        "\n",
        "# Define the labels for the pie chart\n",
        "labels = tickers\n",
        "\n",
        "# Remove tickers with 0 investment amount\n",
        "non_zero_investments = investment_amounts[~np.isclose(investment_amounts, 0)]\n",
        "non_zero_ratios = [(ratio*100) for ratio in (investment_amounts/portfolio_value) if not np.isclose(ratio, 0)]\n",
        "non_zero_labels = [f\"{label} ({ratio:.1f}%)\" for label, investment_amount, ratio in zip(labels, investment_amounts, non_zero_ratios) if not np.isclose(ratio, 0)]\n",
        "\n",
        "# Create a pie chart\n",
        "fig, ax = plt.subplots()\n",
        "wedges, _ = ax.pie(non_zero_investments, startangle=90)\n",
        "\n",
        "# Set aspect ratio to be equal so that pie is drawn as a circle\n",
        "ax.axis('equal')\n",
        "\n",
        "# Add labels to the pie chart\n",
        "ax.legend(wedges, non_zero_labels, loc='center left', bbox_to_anchor=(1, 0.5))\n",
        "plt.title(\"Portfolio Allocation\")\n",
        "plt.show()\n",
        "\n",
        "print(max_sharpe_ratio)\n"
      ],
      "metadata": {
        "colab": {
          "base_uri": "https://localhost:8080/",
          "height": 445
        },
        "id": "jkqft8iB8k_V",
        "outputId": "ab35c17e-8117-4f05-bb5a-279ef8c5bbcc"
      },
      "execution_count": 22,
      "outputs": [
        {
          "output_type": "display_data",
          "data": {
            "text/plain": [
              "<Figure size 640x480 with 1 Axes>"
            ],
            "image/png": "[encoded data removed]"
          },
          "metadata": {}
        },
        {
          "output_type": "stream",
          "name": "stdout",
          "text": [
            "0.09752361537203426\n"
          ]
        }
      ]
    },
    {
      "cell_type": "code",
      "source": [
        "assets = []\n",
        "weights = []\n",
        "\n",
        "# Loop through the portfolio list and extract assets and weights\n",
        "for item in non_zero_labels:\n",
        "    parts = item.split(' ')\n",
        "    asset = parts[0]\n",
        "    weight = float(parts[1][1:-2])  # Removing '%' and converting to float\n",
        "    assets.append(asset)\n",
        "    weights.append(weight)\n",
        "\n",
        "print(\"Assets:\", assets)\n",
        "print(\"Weights:\", weights)"
      ],
      "metadata": {
        "colab": {
          "base_uri": "https://localhost:8080/"
        },
        "id": "2krsMNIk8ulK",
        "outputId": "e1673662-2225-4602-a20b-90d223d9f5bb"
      },
      "execution_count": 23,
      "outputs": [
        {
          "output_type": "stream",
          "name": "stdout",
          "text": [
            "Assets: ['DLF.NS', 'OBEROIRLTY.NS', 'PRESTIGE.NS', 'BRIGADE.NS', 'SOBHA.NS']\n",
            "Weights: [0.3, 19.7, 25.8, 42.8, 11.4]\n"
          ]
        }
      ]
    },
    {
      "cell_type": "code",
      "source": [
        "# Fetch historical data for each asset\n",
        "data = yf.download(assets, start=end_date, end=end_date_test)\n",
        "\n",
        "# Calculate daily returns for each asset\n",
        "daily_returns = data['Adj Close'].pct_change()\n",
        "\n",
        "# Convert weights to a NumPy array and calculate portfolio value over time\n",
        "weights_array = np.array(weights)\n",
        "portfolio_value = np.sum(daily_returns * (weights_array / 100), axis=1)\n",
        "\n",
        "# Calculate cumulative portfolio returns\n",
        "cumulative_returns = (1 + portfolio_value).cumprod()\n",
        "overall_percentage_change = (cumulative_returns.iloc[-1] - 1) * 100\n",
        "print(f'Overall Percentage Change: {overall_percentage_change:.2f}%')\n",
        "\n",
        "# Plot the cumulative portfolio returns\n",
        "plt.figure(figsize=(12, 6))\n",
        "plt.plot(cumulative_returns.index, cumulative_returns.values, label='Portfolio', linewidth=2)\n",
        "plt.xlabel('Date')\n",
        "plt.ylabel('Cumulative Returns')\n",
        "plt.title('Portfolio Performance Over Time')\n",
        "plt.grid(True)\n",
        "plt.legend()\n",
        "plt.show()"
      ],
      "metadata": {
        "colab": {
          "base_uri": "https://localhost:8080/",
          "height": 599
        },
        "id": "Cgzjxbqh8xlA",
        "outputId": "b5352615-8775-4d8d-fd6e-4ced4dc4e97b"
      },
      "execution_count": 24,
      "outputs": [
        {
          "output_type": "stream",
          "name": "stderr",
          "text": [
            "[*********************100%***********************]  5 of 5 completed\n"
          ]
        },
        {
          "output_type": "stream",
          "name": "stdout",
          "text": [
            "Overall Percentage Change: 3.46%\n"
          ]
        },
        {
          "output_type": "display_data",
          "data": {
            "text/plain": [
              "<Figure size 1200x600 with 1 Axes>"
            ],
            "image/png": "[encoded data removed]"
          },
          "metadata": {}
        }
      ]
    },
    {
      "cell_type": "code",
      "source": [],
      "metadata": {
        "id": "0xj9FFQSBOyV"
      },
      "execution_count": null,
      "outputs": []
    }
  ]
}